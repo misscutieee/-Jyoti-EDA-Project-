{
  "nbformat": 4,
  "nbformat_minor": 0,
  "metadata": {
    "colab": {
      "private_outputs": true,
      "provenance": [],
      "collapsed_sections": [
        "vncDsAP0Gaoa",
        "lQ7QKXXCp7Bj",
        "448CDAPjqfQr",
        "KSlN3yHqYklG",
        "t6dVpIINYklI",
        "ijmpgYnKYklI",
        "-JiQyfWJYklI",
        "EM7whBJCYoAo",
        "fge-S5ZAYoAp",
        "85gYPyotYoAp",
        "RoGjAbkUYoAp",
        "4Of9eVA-YrdM",
        "iky9q4vBYrdO",
        "F6T5p64dYrdO",
        "y-Ehk30pYrdP",
        "bamQiAODYuh1",
        "QHF8YVU7Yuh3",
        "GwzvFGzlYuh3",
        "qYpmQ266Yuh3",
        "OH-pJp9IphqM",
        "bbFf2-_FphqN",
        "_ouA3fa0phqN",
        "Seke61FWphqN",
        "PIIx-8_IphqN",
        "t27r6nlMphqO",
        "r2jJGEOYphqO",
        "b0JNsNcRphqO",
        "BZR9WyysphqO",
        "jj7wYXLtphqO",
        "eZrbJ2SmphqO",
        "rFu4xreNphqO",
        "YJ55k-q6phqO",
        "gCFgpxoyphqP",
        "OVtJsKN_phqQ",
        "lssrdh5qphqQ",
        "U2RJ9gkRphqQ",
        "1M8mcRywphqQ",
        "tgIPom80phqQ",
        "JMzcOPDDphqR",
        "x-EpHcCOp1ci",
        "X_VqEhTip1ck",
        "8zGJKyg5p1ck",
        "PVzmfK_Ep1ck",
        "n3dbpmDWp1ck",
        "ylSl6qgtp1ck",
        "ZWILFDl5p1ck",
        "M7G43BXep1ck",
        "Ag9LCva-p1cl",
        "E6MkPsBcp1cl",
        "2cELzS2fp1cl",
        "3MPXvC8up1cl",
        "NC_X3p0fY2L0",
        "UV0SzAkaZNRQ",
        "YPEH6qLeZNRQ",
        "q29F0dvdveiT",
        "EXh0U9oCveiU",
        "22aHeOlLveiV",
        "JcMwzZxoAimU",
        "8G2x9gOozGDZ",
        "gCX9965dhzqZ",
        "gIfDvo9L0UH2"
      ],
      "include_colab_link": true
    },
    "kernelspec": {
      "name": "python3",
      "display_name": "Python 3"
    },
    "language_info": {
      "name": "python"
    }
  },
  "cells": [
    {
      "cell_type": "markdown",
      "metadata": {
        "id": "view-in-github",
        "colab_type": "text"
      },
      "source": [
        "<a href=\"https://colab.research.google.com/github/misscutieee/-Jyoti-EDA-Project-/blob/main/Jyoit_Hotel_Booking_EDA_Submission_Template.ipynb\" target=\"_parent\"><img src=\"https://colab.research.google.com/assets/colab-badge.svg\" alt=\"Open In Colab\"/></a>"
      ]
    },
    {
      "cell_type": "markdown",
      "source": [
        "## **Project Name**    -  **Hotel Booking Analysis**\n",
        "\n",
        "Project Type - EDA/Regression/Classification/Unsupervised\n",
        "\n",
        "\n",
        "Contribution - Individual\n",
        "\n",
        "\n"
      ],
      "metadata": {
        "id": "vncDsAP0Gaoa"
      }
    },
    {
      "cell_type": "markdown",
      "source": [
        "# **Project Summary -**\n",
        "### A hotel reservation system is software used in the hotel industry to manage room inventory, rates, and bookings. Also called a central reservations system (CRS). According to the hotel size, location, target markets, levels of service, facilities provided, number of rooms, ownership and connection etc.\n",
        "### This project contains the real world data record of hotel bookings of a city and a resort hotel containing details like bookings, cancellations, guest details etc. from 2015 to 2017. Main aim of the project is to understand and visualize dataset from hotel and customer point of view i.e. reasons for booking cancellations across various parameters best time to book hotel peak season and give suggestions to reduce these cancellations and increase revenue of hotels.\n"
      ],
      "metadata": {
        "id": "FJNUwmbgGyua"
      }
    },
    {
      "cell_type": "markdown",
      "source": [
        "# **GitHub Link -**"
      ],
      "metadata": {
        "id": "w6K7xa23Elo4"
      }
    },
    {
      "cell_type": "markdown",
      "source": [
        "Provide your GitHub Link here."
      ],
      "metadata": {
        "id": "h1o69JH3Eqqn"
      }
    },
    {
      "cell_type": "markdown",
      "source": [
        "# **Problem Statement**\n",
        "\n",
        "### In this project we are going to analyse Hotel Booking dataset. This dataset contains information of city hotel and resort hotel, and includes information of booking time, length of stay, number of adults, children and/or babies, also have information of avaliable parking space, among other thing.\n",
        "\n",
        "### The objective of this project is explore and analyse the data to discover important factors regarding Hotels booking and its attributes."
      ],
      "metadata": {
        "id": "yQaldy8SH6Dl"
      }
    },
    {
      "cell_type": "markdown",
      "source": [
        "**Write Problem Statement Here.**"
      ],
      "metadata": {
        "id": "DpeJGUA3kjGy"
      }
    },
    {
      "cell_type": "markdown",
      "source": [
        "#### **Define Your Business Objective?**"
      ],
      "metadata": {
        "id": "PH-0ReGfmX4f"
      }
    },
    {
      "cell_type": "markdown",
      "source": [
        "\n",
        "\n",
        "### Analyse the data on Hotel Booking and discover the different factors which affects the booking."
      ],
      "metadata": {
        "id": "PhDvGCAqmjP1"
      }
    },
    {
      "cell_type": "markdown",
      "source": [
        "# **General Guidelines** : -  "
      ],
      "metadata": {
        "id": "mDgbUHAGgjLW"
      }
    },
    {
      "cell_type": "markdown",
      "source": [
        "1.   Well-structured, formatted, and commented code is required.\n",
        "2.   Exception Handling, Production Grade Code & Deployment Ready Code will be a plus. Those students will be awarded some additional credits.\n",
        "     \n",
        "     The additional credits will have advantages over other students during Star Student selection.\n",
        "       \n",
        "             [ Note: - Deployment Ready Code is defined as, the whole .ipynb notebook should be executable in one go\n",
        "                       without a single error logged. ]\n",
        "\n",
        "3.   Each and every logic should have proper comments.\n",
        "4. You may add as many number of charts you want. Make Sure for each and every chart the following format should be answered.\n",
        "        \n",
        "\n",
        "```\n",
        "# Chart visualization code\n",
        "```\n",
        "            \n",
        "\n",
        "*   Why did you pick the specific chart?\n",
        "*   What is/are the insight(s) found from the chart?\n",
        "* Will the gained insights help creating a positive business impact?\n",
        "Are there any insights that lead to negative growth? Justify with specific reason.\n",
        "\n",
        "5. You have to create at least 20 logical & meaningful charts having important insights.\n",
        "\n",
        "\n",
        "[ Hints : - Do the Vizualization in  a structured way while following \"UBM\" Rule.\n",
        "\n",
        "U - Univariate Analysis,\n",
        "\n",
        "B - Bivariate Analysis (Numerical - Categorical, Numerical - Numerical, Categorical - Categorical)\n",
        "\n",
        "M - Multivariate Analysis\n",
        " ]\n",
        "\n",
        "\n",
        "\n"
      ],
      "metadata": {
        "id": "ZrxVaUj-hHfC"
      }
    },
    {
      "cell_type": "markdown",
      "source": [
        "# ***Let's Begin !***"
      ],
      "metadata": {
        "id": "O_i_v8NEhb9l"
      }
    },
    {
      "cell_type": "markdown",
      "source": [
        "## ***1. Know Your Data***"
      ],
      "metadata": {
        "id": "HhfV-JJviCcP"
      }
    },
    {
      "cell_type": "markdown",
      "source": [
        "### Import Libraries"
      ],
      "metadata": {
        "id": "Y3lxredqlCYt"
      }
    },
    {
      "cell_type": "code",
      "source": [
        "# Importing all import python libraries\n",
        "import numpy as np\n",
        "import pandas as pd\n",
        "import matplotlib\n",
        "import matplotlib.pyplot as plt\n",
        "import seaborn as sns\n",
        "import folium\n",
        "import plotly.express as px\n",
        "%matplotlib inline"
      ],
      "metadata": {
        "id": "M8Vqi-pPk-HR"
      },
      "execution_count": null,
      "outputs": []
    },
    {
      "cell_type": "markdown",
      "source": [
        "### Dataset Loading"
      ],
      "metadata": {
        "id": "3RnN4peoiCZX"
      }
    },
    {
      "cell_type": "code",
      "source": [
        "# Load Dataset\n",
        "# Hotel booking dataset read using pd.read_csv\n",
        "working_dataset = '/content/Hotel Bookings.csv'\n",
        "Hotel_df = pd.read_csv(working_dataset)"
      ],
      "metadata": {
        "id": "4CkvbW_SlZ_R"
      },
      "execution_count": null,
      "outputs": []
    },
    {
      "cell_type": "markdown",
      "source": [
        "### Dataset First View"
      ],
      "metadata": {
        "id": "x71ZqKXriCWQ"
      }
    },
    {
      "cell_type": "code",
      "source": [
        "# Dataset First Look\n",
        "Hotel_df.head()"
      ],
      "metadata": {
        "id": "Hv29Anm9fFez"
      },
      "execution_count": null,
      "outputs": []
    },
    {
      "cell_type": "code",
      "source": [
        "Hotel_df.tail()"
      ],
      "metadata": {
        "id": "ZJJ2qGOpgWcq"
      },
      "execution_count": null,
      "outputs": []
    },
    {
      "cell_type": "markdown",
      "source": [
        "### Dataset Rows & Columns count"
      ],
      "metadata": {
        "id": "7hBIi_osiCS2"
      }
    },
    {
      "cell_type": "code",
      "source": [
        "# Dataset Rows & Columns count\n",
        "\n",
        "Hotel_df.shape      #  Counting rows and columns in dataframe using shape"
      ],
      "metadata": {
        "id": "Kllu7SJgmLij"
      },
      "execution_count": null,
      "outputs": []
    },
    {
      "cell_type": "markdown",
      "source": [
        "### How many rows does this dataframe have?"
      ],
      "metadata": {
        "id": "RP6dQ_MK5Jcw"
      }
    },
    {
      "cell_type": "code",
      "source": [
        "print(\"Our dataset have \", Hotel_df.shape[0] ,' rows.')  #  Counting Only rows"
      ],
      "metadata": {
        "id": "k8f3FfL75JF5"
      },
      "execution_count": null,
      "outputs": []
    },
    {
      "cell_type": "markdown",
      "source": [
        "### Dataset Information"
      ],
      "metadata": {
        "id": "JlHwYmJAmNHm"
      }
    },
    {
      "cell_type": "code",
      "source": [
        "# Dataset Info\n",
        "Hotel_df.info()        #understanding the given information in dataset"
      ],
      "metadata": {
        "id": "e9hRXRi6meOf"
      },
      "execution_count": null,
      "outputs": []
    },
    {
      "cell_type": "code",
      "source": [
        "Hotel_df.describe()       # Here is total description of dataset"
      ],
      "metadata": {
        "id": "H4FIV1-siFDL"
      },
      "execution_count": null,
      "outputs": []
    },
    {
      "cell_type": "code",
      "source": [
        "# Creating a copy of dataframe\n",
        "df = Hotel_df.copy()\n",
        "df"
      ],
      "metadata": {
        "id": "TEeGlz616yBp"
      },
      "execution_count": null,
      "outputs": []
    },
    {
      "cell_type": "markdown",
      "source": [
        "# **Duplicate Values**"
      ],
      "metadata": {
        "id": "35m5QtbWiB9F"
      }
    },
    {
      "cell_type": "code",
      "source": [
        "# Dataset Duplicate Value Count\n",
        "duplicate_values = Hotel_df.duplicated().value_counts()\n",
        "duplicate_values"
      ],
      "metadata": {
        "id": "1sLdpKYkmox0"
      },
      "execution_count": null,
      "outputs": []
    },
    {
      "cell_type": "code",
      "source": [
        "# Visualizing the duplicate values\n",
        "plt.figure(figsize=(10,5))\n",
        "sns.countplot(x= Hotel_df.duplicated())\n",
        "plt.title('Visualisation of duplicated value', fontsize = 20)\n",
        "plt.ylabel('Count of Duplicate Values', fontsize = 15)\n",
        "plt.show()"
      ],
      "metadata": {
        "id": "feXK0fqDFuit"
      },
      "execution_count": null,
      "outputs": []
    },
    {
      "cell_type": "code",
      "source": [
        "# Dropping duplicate values\n",
        "df.drop_duplicates(inplace = True)"
      ],
      "metadata": {
        "id": "Wf0-2RTXlVVJ"
      },
      "execution_count": null,
      "outputs": []
    },
    {
      "cell_type": "code",
      "source": [
        "df.shape   #Show no. of rows of  Non duplicates rows\n"
      ],
      "metadata": {
        "id": "88qpcM5BFWG0"
      },
      "execution_count": null,
      "outputs": []
    },
    {
      "cell_type": "code",
      "source": [
        "Hotel_df[Hotel_df.duplicated()].shape    #Show no. of rows of duplicate rows"
      ],
      "metadata": {
        "id": "oUEVRpoGFe2O"
      },
      "execution_count": null,
      "outputs": []
    },
    {
      "cell_type": "markdown",
      "source": [
        "## **Missing Values/Null Values**"
      ],
      "metadata": {
        "id": "PoPl-ycgm1ru"
      }
    },
    {
      "cell_type": "markdown",
      "source": [
        "## **Is there any missing data ?**"
      ],
      "metadata": {
        "id": "uZ_BHYjatNJO"
      }
    },
    {
      "cell_type": "code",
      "source": [
        "#check whether contains null value or not\n",
        "Hotel_df.isnull().values.any()"
      ],
      "metadata": {
        "id": "6IxZhjvuHD0v"
      },
      "execution_count": null,
      "outputs": []
    },
    {
      "cell_type": "markdown",
      "source": [
        "**This means that there are null values present in our data frame**"
      ],
      "metadata": {
        "id": "nfzG3cQAHPif"
      }
    },
    {
      "cell_type": "code",
      "source": [
        "# Missing Values/Null Values Count\n",
        "missing_value = Hotel_df.isnull().sum().sort_values(ascending=False)[:5]\n",
        "missing_value"
      ],
      "metadata": {
        "id": "GgHWkxvamxVg"
      },
      "execution_count": null,
      "outputs": []
    },
    {
      "cell_type": "markdown",
      "source": [
        "We see that there are 32 columns in the dataframe and some columns like 'children', 'company', 'country' and 'agent' have null values.\n"
      ],
      "metadata": {
        "id": "haZ3vLUR3eBA"
      }
    },
    {
      "cell_type": "markdown",
      "source": [
        "## **Which column has the most missing data ?**\n",
        "\n",
        "\n",
        "\n"
      ],
      "metadata": {
        "id": "L1AOkIsg7Ydv"
      }
    },
    {
      "cell_type": "code",
      "source": [
        "max_null_val = Hotel_df.isnull().sum().idxmax()\n",
        "print('The maximum number of Null data is in column *** ',max_null_val,' ***')"
      ],
      "metadata": {
        "id": "TNy0_1ls70CP"
      },
      "execution_count": null,
      "outputs": []
    },
    {
      "cell_type": "code",
      "source": [
        "# Visualizing the missing values is in column\n",
        "Hotel_df.isnull().sum().plot(kind = 'bar', figsize = (10,5))\n",
        "plt.title('Missing values per columns')\n",
        "plt.xlabel('Columns', size=15)\n",
        "plt.ylabel('Number of Missing Values', size=15)\n",
        "plt.show()"
      ],
      "metadata": {
        "id": "l874lm8oBVOx"
      },
      "execution_count": null,
      "outputs": []
    },
    {
      "cell_type": "markdown",
      "source": [
        "***Here we got missing values visualisation.It can be clearly seen the amout of mising value present in company  and  agent column***"
      ],
      "metadata": {
        "id": "VgtYXYWECsfE"
      }
    },
    {
      "cell_type": "markdown",
      "source": [
        "Since, company and agent columns have company number and agent numbers as data. There may be some cases when customer didnt booked hotel via any agent or via any company. So in that case values can be null under  these columns.   \n",
        "***We will replace null values by 0 in these columns?***"
      ],
      "metadata": {
        "id": "fc-DU-p_tIRW"
      }
    },
    {
      "cell_type": "code",
      "source": [
        "df[['company','agent']] = df[['company','agent']].fillna(0)   # Using the fillna mathoed replaces the null values with a Zero value.\n",
        "df[['company','agent']]"
      ],
      "metadata": {
        "id": "fha7-3FPub38"
      },
      "execution_count": null,
      "outputs": []
    },
    {
      "cell_type": "markdown",
      "source": [
        "Next column with missing value is 'country'. This column represents the country of oriigin of customer.\n",
        "Since, this column has datatype of string.\n",
        "\n",
        "**We will replace the missing value with the mode of 'country' column.**"
      ],
      "metadata": {
        "id": "eO3JVGqaoAtB"
      }
    },
    {
      "cell_type": "code",
      "source": [
        "df['country'].fillna('others', inplace = True)"
      ],
      "metadata": {
        "id": "xdrEedeKoiZI"
      },
      "execution_count": null,
      "outputs": []
    },
    {
      "cell_type": "code",
      "source": [
        "df['children'].unique()"
      ],
      "metadata": {
        "id": "c6pYBMjupVDw"
      },
      "execution_count": null,
      "outputs": []
    },
    {
      "cell_type": "markdown",
      "source": [
        "This column 'children' has 0 as value which means 0 children were present in group of customers who made that transaction.\n",
        "So, 'nan' values are the missing values due to error of recording data.\n",
        "\n",
        "**We will replace the null values under this column with mean value of children.**"
      ],
      "metadata": {
        "id": "5IgJBaUMozoz"
      }
    },
    {
      "cell_type": "code",
      "source": [
        "df['children'].fillna(df['children'].mean(), inplace = True)"
      ],
      "metadata": {
        "id": "J4HYAnoDpYOQ"
      },
      "execution_count": null,
      "outputs": []
    },
    {
      "cell_type": "code",
      "source": [
        "# Checking if all null values are removed\n",
        "df.isnull().sum().sort_values(ascending = False)[:6]"
      ],
      "metadata": {
        "id": "KoSofkNkpM1Z"
      },
      "execution_count": null,
      "outputs": []
    },
    {
      "cell_type": "code",
      "source": [
        "# after removing all null values from the dataset and fillna some of the columns we will visualize the dataset\n",
        "\n",
        "df.isnull().sum().plot(kind = 'bar', figsize = (10,5))\n",
        "plt.title('Missing values per columns')\n",
        "plt.xlabel('Columns', size=15)\n",
        "plt.ylabel('Number of Missing Values', size=15)\n",
        "plt.show()"
      ],
      "metadata": {
        "id": "x5dapE250NnJ"
      },
      "execution_count": null,
      "outputs": []
    },
    {
      "cell_type": "markdown",
      "source": [
        "## **What did you know about your dataset?**"
      ],
      "metadata": {
        "id": "H0kj-8xxnORC"
      }
    },
    {
      "cell_type": "markdown",
      "source": [
        "\n",
        "### **The given dataset is of Hotel Booking and we have to analyse and explore this dataset to discover important facrtors which affects the Hotel Booking.**\n",
        "\n",
        "***The given dataset gives booking information of two types hotet:***\n",
        "\n",
        "1.   City Hotel\n",
        "\n",
        "2.   Resort Hotel\n",
        "\n",
        "\n",
        "\n",
        "\n",
        "*   *It gives us customer details like when did the customer booked the hotel,in which year,month,week number customer arrived and what was his total stay in the hotel.  What type of meal customer opted and what type of room was alloted.*\n",
        "\n",
        "*   *it also gives us some personal information like what is the customer type,from which country customer belongs to,was he/she alone or in a group,how many children/babies were there.*\n",
        "\n",
        "*   *it also provides information how customer booked the hotel and was there any special request made by the customer .*\n",
        "*   *it also provides information about the revenue generation by the hotel.*\n",
        "\n",
        "### **The above dataset has 119390 rows and 32 coulumns.The duplicate value count is 31994 rows and 32 columns. There are 4 columns in dataset which have missing valuse and those columns are company, agent, country and children.**"
      ],
      "metadata": {
        "id": "gfoNAAC-nUe_"
      }
    },
    {
      "cell_type": "markdown",
      "source": [
        "## ***2. Understanding Your Variables***"
      ],
      "metadata": {
        "id": "nA9Y7ga8ng1Z"
      }
    },
    {
      "cell_type": "markdown",
      "source": [
        "### Show a discribe of the dataframe with its variables information"
      ],
      "metadata": {
        "id": "MDluvv5t3xW0"
      }
    },
    {
      "cell_type": "code",
      "source": [
        "# Dataset Columns\n",
        "\n",
        "df.columns\n"
      ],
      "metadata": {
        "id": "j7xfkqrt5Ag5"
      },
      "execution_count": null,
      "outputs": []
    },
    {
      "cell_type": "code",
      "source": [
        "# Dataset Describe\n",
        "df.describe(include='all')"
      ],
      "metadata": {
        "id": "DnOaZdaE5Q5t"
      },
      "execution_count": null,
      "outputs": []
    },
    {
      "cell_type": "markdown",
      "source": [
        "### **Variables Description**"
      ],
      "metadata": {
        "id": "PBTbrJXOngz2"
      }
    },
    {
      "cell_type": "markdown",
      "source": [
        "Answer Here"
      ],
      "metadata": {
        "id": "aJV4KIxSnxay"
      }
    },
    {
      "cell_type": "markdown",
      "source": [
        "*  **Hotel:** Type of hotel(City or Resort)\n",
        "*  **is_cancelled:** If the booking was cancelled(1) or not(0)\n",
        "*  **lead_time:** How many days customer has booked the hotel in advance\n",
        "*  **arrival_date_year:** Year of arrival date\n",
        "*  **arrival_date_month:** Month of arrival date\n",
        "*  **arrival_date_week_number:** Week number of year for arrival date\n",
        "*  **arrival_date_day_of_month:** Day of arrival date\n",
        "*  **stays_in_weekend_nights:** Number of weekend nights(Saturday or Sunday) spent at the hotel by the guests.\n",
        "*  **stays_in_weel_nights:** Number of weeknights(Monday to Friday) spent at the hotel by the guests.\n",
        "*  **adults:** Number of adults among the guests\n",
        "*  **children:** Number of children\n",
        "*  **babies:** Number of babies\n",
        "*  **meal:** Kind of meal customer has Opted for in the hotel\n",
        "      *     BB :- Bed & Breakfast  \n",
        "      *     FB :- Full Board (Beakfast, Lunch and Dinner)\n",
        "      *     HB :- Half Board (Breakfast and Dinner normally)\n",
        "      *     SC/Undefined  :- no meal opted\n",
        "*  **country:** Code of the country customer belongs to\n",
        "*  **market_segment:** Designation of market segment\n",
        "*  **distribution_channel:** Name of booking distribution channel\n",
        "*  **is_repeated_guest:** If the booking was from a repeated guest(1) or not(0)\n",
        "*  **previous_cancellation:** Number of previous bookings that were cancelled by the customer prior to the current booking\n",
        "*  **previous_bookings_not_cancelled:** Number of previous booking not cancelled by the customer prior to the current bookin\n",
        "*  **reserved_room_type:** Code from room type reserved\n",
        "*  **assigned_room_type:** Code of room type assigned\n",
        "*  **booking_changes:** Number of changes made to the booking\n",
        "*  **deposit_type:** Type of deposite made by the guest\n",
        "* **agent:** ID of travel agent who made the booking\n",
        "*  **comapny:** ID of the company that made the booking\n",
        "*  **days_in_waiting_list:** Number of the days the booking was in the waiting list\n",
        "*  **customer_type:** Type of customer, assuming one of four categories\n",
        "*  **adr:** A hotel’s ADR, (Average Daily Rate) is the measure of the average rate paid per room that’s occupied at the property\n",
        "*  **required_car_parking_spaces:** Number of car parking spaces required bt the customer\n",
        "*  **total_of_special_requesrs:** Number of special requests made by the customer\n",
        "*  **reservation_statuse:** Reservation status(Canceled, check-out or no-show)\n",
        "*  **reservation_status_date:** Date at which the last reservation status was updated"
      ],
      "metadata": {
        "id": "uUE8f0s4lyAY"
      }
    },
    {
      "cell_type": "markdown",
      "source": [
        "### Check Unique Values for each variable."
      ],
      "metadata": {
        "id": "u3PMJOP6ngxN"
      }
    },
    {
      "cell_type": "markdown",
      "source": [
        "First of all we will try to understand the meaning of all columns of the dataframe.\n",
        "For this we will see the unique values attained by each column whose meaning we are unable to understand."
      ],
      "metadata": {
        "id": "380lvOJVQZ4N"
      }
    },
    {
      "cell_type": "code",
      "source": [
        "# Check Unique Values for each variable.\n",
        "# We describe all the unique values using lambda fuction of indivisual column.\n",
        "print(df.apply(lambda col: col.unique()))"
      ],
      "metadata": {
        "id": "zms12Yq5n-jE"
      },
      "execution_count": null,
      "outputs": []
    },
    {
      "cell_type": "code",
      "source": [
        "# How many types of hotels are here in this data frame?\n",
        "\n",
        "df['hotel'].unique()"
      ],
      "metadata": {
        "id": "CLWt9DZdQdSq"
      },
      "execution_count": null,
      "outputs": []
    },
    {
      "cell_type": "markdown",
      "source": [
        "**Two types of hotel in dataset**"
      ],
      "metadata": {
        "id": "njFZ7pXUTZhQ"
      }
    },
    {
      "cell_type": "code",
      "source": [
        "# Costomer arrivel year?\n",
        "\n",
        "df['arrival_date_year'].unique()\n"
      ],
      "metadata": {
        "id": "UTJs18ar-MCf"
      },
      "execution_count": null,
      "outputs": []
    },
    {
      "cell_type": "markdown",
      "source": [
        "**3 year of booking data**"
      ],
      "metadata": {
        "id": "BvbOukBHTcWR"
      }
    },
    {
      "cell_type": "code",
      "source": [
        "# Costomer arrivel month?\n",
        "\n",
        "df['arrival_date_month'].unique()"
      ],
      "metadata": {
        "id": "G_1cjb76Qen4"
      },
      "execution_count": null,
      "outputs": []
    },
    {
      "cell_type": "markdown",
      "source": [
        " **name of month booking data**"
      ],
      "metadata": {
        "id": "HefDCzmXTkq1"
      }
    },
    {
      "cell_type": "code",
      "source": [
        "# Costomer arrivel week?\n",
        "\n",
        "df['arrival_date_week_number'].unique()"
      ],
      "metadata": {
        "id": "zaUFTECVFUeb"
      },
      "execution_count": null,
      "outputs": []
    },
    {
      "cell_type": "code",
      "source": [
        "# Costomer arrivel day?\n",
        "\n",
        "df['arrival_date_day_of_month'].unique()"
      ],
      "metadata": {
        "id": "3AQI4bucQfjo"
      },
      "execution_count": null,
      "outputs": []
    },
    {
      "cell_type": "code",
      "source": [
        "# Number of weekend night (Saturday and Sanday) the guest stayed or booked to stay at the hotel?\n",
        "\n",
        "df['stays_in_weekend_nights'].unique()"
      ],
      "metadata": {
        "id": "9ponMAjfQf4R"
      },
      "execution_count": null,
      "outputs": []
    },
    {
      "cell_type": "code",
      "source": [
        "# Number of week night (Monday to Friday) the guest stayed or booked to stay at the hotel?\n",
        "\n",
        "df['stays_in_week_nights'].unique()"
      ],
      "metadata": {
        "id": "QQrYDOsLQgHQ"
      },
      "execution_count": null,
      "outputs": []
    },
    {
      "cell_type": "code",
      "source": [
        "#unique values of country column\n",
        "df['country'].unique()"
      ],
      "metadata": {
        "id": "HjUfQN_2rllv"
      },
      "execution_count": null,
      "outputs": []
    },
    {
      "cell_type": "code",
      "source": [
        "# What kind of food is here in the hotel?\n",
        "\n",
        "df['meal'].unique()"
      ],
      "metadata": {
        "id": "UllApRF3QgYY"
      },
      "execution_count": null,
      "outputs": []
    },
    {
      "cell_type": "markdown",
      "source": [
        " ***There is the type of meal opted by the customer***"
      ],
      "metadata": {
        "id": "AU2BKzPJXlOR"
      }
    },
    {
      "cell_type": "code",
      "source": [
        "# Which market segments the customer are belongs here?\n",
        "\n",
        "df['market_segment'].unique()"
      ],
      "metadata": {
        "id": "hthGQFh7Qgr3"
      },
      "execution_count": null,
      "outputs": []
    },
    {
      "cell_type": "code",
      "source": [
        "# How the cusomer accessed the stay corporate booking Direct TA/TO?\n",
        "\n",
        "df['distribution_channel'].unique()"
      ],
      "metadata": {
        "id": "AVduSlIUFG8j"
      },
      "execution_count": null,
      "outputs": []
    },
    {
      "cell_type": "code",
      "source": [
        "#unique values of adults column\n",
        "\n",
        "df['adults'].unique()"
      ],
      "metadata": {
        "id": "Gq-KTzpqYmXI"
      },
      "execution_count": null,
      "outputs": []
    },
    {
      "cell_type": "code",
      "source": [
        "# Number of children ?\n",
        "\n",
        "df['children'].unique()"
      ],
      "metadata": {
        "id": "it8smhEpE-fT"
      },
      "execution_count": null,
      "outputs": []
    },
    {
      "cell_type": "code",
      "source": [
        "#unique values of babies column\n",
        "\n",
        "df['babies'].unique()"
      ],
      "metadata": {
        "id": "ermr-aqNYVoP"
      },
      "execution_count": null,
      "outputs": []
    },
    {
      "cell_type": "markdown",
      "source": [
        " **Number of adults, children, babies.  This column has 0 as well as null values**"
      ],
      "metadata": {
        "id": "m2J37zoVYE55"
      }
    },
    {
      "cell_type": "code",
      "source": [
        "#unique values of total_of_special_requests column\n",
        "df['total_of_special_requests'].unique()"
      ],
      "metadata": {
        "id": "ZwcpKjaTNtQ8"
      },
      "execution_count": null,
      "outputs": []
    },
    {
      "cell_type": "markdown",
      "source": [
        "**Number of additional special request required**"
      ],
      "metadata": {
        "id": "LWrHRAGzOgCO"
      }
    },
    {
      "cell_type": "code",
      "source": [
        "#unique values of booking_changes column\n",
        "df['booking_changes'].unique()"
      ],
      "metadata": {
        "id": "ypfJArPrNYHq"
      },
      "execution_count": null,
      "outputs": []
    },
    {
      "cell_type": "markdown",
      "source": [
        "**number of times booking changed by the customer**"
      ],
      "metadata": {
        "id": "PlRuhGumNnL-"
      }
    },
    {
      "cell_type": "code",
      "source": [
        "#unique values of deposit_type column\n",
        "df['deposit_type'].unique()"
      ],
      "metadata": {
        "id": "XBd9D4qpMsnt"
      },
      "execution_count": null,
      "outputs": []
    },
    {
      "cell_type": "code",
      "source": [
        "#unique values of customer_type column\n",
        "df['customer_type'].unique()"
      ],
      "metadata": {
        "id": "cIvSsTMhLhRu"
      },
      "execution_count": null,
      "outputs": []
    },
    {
      "cell_type": "markdown",
      "source": [
        "* Transient :                              when the booking is not part of a group or contract, and is not associated to other transient booking\n",
        "* Contract:              when the booking has any type of contract associated with it\n",
        "* Transient_party:          when the booking is transient but is associated with at least another transient booking\n",
        "* Group:                     when the booking is associated with a group\n"
      ],
      "metadata": {
        "id": "CHsg7mt8LyK_"
      }
    },
    {
      "cell_type": "code",
      "source": [
        "#unique value of is_canceled column\n",
        "\n",
        "list(df['is_canceled'].unique())"
      ],
      "metadata": {
        "id": "F3DODRGE51LC"
      },
      "execution_count": null,
      "outputs": []
    },
    {
      "cell_type": "markdown",
      "source": [
        "**1 means that booking was cancelled and 0 means not cancelled**"
      ],
      "metadata": {
        "id": "FCW2QA_YG0FZ"
      }
    },
    {
      "cell_type": "code",
      "source": [
        "#unique values of is_repeated_guest column\n",
        "df['is_repeated_guest'].unique()\n"
      ],
      "metadata": {
        "id": "NkvlqyzS63Ma"
      },
      "execution_count": null,
      "outputs": []
    },
    {
      "cell_type": "markdown",
      "source": [
        "**Guest coming first time or not 0 means first visit 1 means repeated customer**"
      ],
      "metadata": {
        "id": "bDpq2UCo7kTj"
      }
    },
    {
      "cell_type": "code",
      "source": [
        "#unique values of previous_cancellations column\n",
        "\n",
        "df['previous_cancellations'].unique()"
      ],
      "metadata": {
        "id": "KQGR0-CU7JxT"
      },
      "execution_count": null,
      "outputs": []
    },
    {
      "cell_type": "markdown",
      "source": [
        "**Number of booking cancelled by the customer prior to current ***"
      ],
      "metadata": {
        "id": "x1RXjfHHGMjF"
      }
    },
    {
      "cell_type": "code",
      "source": [
        "#unique values of previous_bookings_not_canceled column\n",
        "\n",
        "df['previous_bookings_not_canceled'].unique()"
      ],
      "metadata": {
        "id": "VPAabNwIGHIc"
      },
      "execution_count": null,
      "outputs": []
    },
    {
      "cell_type": "markdown",
      "source": [
        "**count of previous booking sucessfully made by the customer**"
      ],
      "metadata": {
        "id": "Lp8siLwOGk12"
      }
    },
    {
      "cell_type": "code",
      "source": [
        "#unique values of reserved_room_type column\n",
        "\n",
        "df['reserved_room_type'].unique()"
      ],
      "metadata": {
        "id": "7pu0sIXyHNNF"
      },
      "execution_count": null,
      "outputs": []
    },
    {
      "cell_type": "markdown",
      "source": [
        "**Types of room reserved by the customer**"
      ],
      "metadata": {
        "id": "qFugIo7atiR3"
      }
    },
    {
      "cell_type": "code",
      "source": [
        "#unique values of assigned_room_type column\n",
        "\n",
        "df['assigned_room_type'].unique()"
      ],
      "metadata": {
        "id": "cL9Yx_M4tVOo"
      },
      "execution_count": null,
      "outputs": []
    },
    {
      "cell_type": "markdown",
      "source": [
        "**Type of room assigned to the customer**"
      ],
      "metadata": {
        "id": "JzUsWejztdP8"
      }
    },
    {
      "cell_type": "code",
      "source": [
        "#unique values of days_in_waiting_list column\n",
        "df['days_in_waiting_list'].unique()"
      ],
      "metadata": {
        "id": "tSTaohiyIQIM"
      },
      "execution_count": null,
      "outputs": []
    },
    {
      "cell_type": "markdown",
      "source": [
        "**Number of days customer had to wait to get booking confirm**"
      ],
      "metadata": {
        "id": "Mc2xx51lZUqH"
      }
    },
    {
      "cell_type": "code",
      "source": [
        "#unique values of required_car_parking_spaces column\n",
        "df['required_car_parking_spaces'].unique()"
      ],
      "metadata": {
        "id": "pOcCP7qNZTA3"
      },
      "execution_count": null,
      "outputs": []
    },
    {
      "cell_type": "markdown",
      "source": [
        "**number of parking space requied**"
      ],
      "metadata": {
        "id": "jsRFoVmIZqQx"
      }
    },
    {
      "cell_type": "code",
      "source": [
        "#unique values of total_of_special_requests column\n",
        "df['total_of_special_requests'].unique()"
      ],
      "metadata": {
        "id": "2duHzU99ZkW0"
      },
      "execution_count": null,
      "outputs": []
    },
    {
      "cell_type": "markdown",
      "source": [
        "Number of additional special request"
      ],
      "metadata": {
        "id": "qwtWa71BZ2YM"
      }
    },
    {
      "cell_type": "code",
      "source": [
        "#unique values of reservation_status column\n",
        "df['reservation_status'].unique()"
      ],
      "metadata": {
        "id": "liLiNXrqaB6h"
      },
      "execution_count": null,
      "outputs": []
    },
    {
      "cell_type": "code",
      "source": [
        "#unique values of adr column\n",
        "df['adr'].unique()"
      ],
      "metadata": {
        "id": "OEWgbCzBt14z"
      },
      "execution_count": null,
      "outputs": []
    },
    {
      "cell_type": "markdown",
      "source": [
        "## 3. ***Data Wrangling***"
      ],
      "metadata": {
        "id": "dauF4eBmngu3"
      }
    },
    {
      "cell_type": "markdown",
      "source": [
        "### Data Wrangling Code"
      ],
      "metadata": {
        "id": "bKJF3rekwFvQ"
      }
    },
    {
      "cell_type": "code",
      "source": [
        "# Write your code to make your dataset analysis ready.\n",
        "#finding out outlier in each column\n",
        "plt.rc('font', size=10)\n",
        "plt.figure(figsize=(20,5))\n",
        "sns.boxplot(data=df[['is_canceled','lead_time','arrival_date_week_number','adults','babies','previous_cancellations','booking_changes','days_in_waiting_list','adr','total_of_special_requests']])\n",
        "plt.show()"
      ],
      "metadata": {
        "id": "S-MywkzD0N2C"
      },
      "execution_count": null,
      "outputs": []
    },
    {
      "cell_type": "code",
      "source": [
        "#After checking for each column only in these columns outliers are present\n",
        "#lead_time, adr, days_in_waiting_list\n",
        "plt.rc('font', size=10)\n",
        "plt.figure(figsize=(20,5))\n",
        "sns.boxplot(data=df[['lead_time','adr','days_in_waiting_list']])\n",
        "plt.show()"
      ],
      "metadata": {
        "id": "epJhV3VRDcSF"
      },
      "execution_count": null,
      "outputs": []
    },
    {
      "cell_type": "code",
      "source": [
        "#removing outlier\n",
        "def removing_outlier(col):\n",
        "  sorted(col)\n",
        "  q1,q3=col.quantile([0.25,0.75])  # Quantile function divides the dataset in 25% and 75%\n",
        "  IQR=q3-q1                          #Interquartile range\n",
        "  lwr_bound=q1-(1.5*IQR)\n",
        "  upr_bound=q3+(1.5*IQR)\n",
        "  return lwr_bound,upr_bound"
      ],
      "metadata": {
        "id": "vrYnHMXlFbuc"
      },
      "execution_count": null,
      "outputs": []
    },
    {
      "cell_type": "code",
      "source": [
        "#removing outlier from lead_time column\n",
        "low,high = removing_outlier(df['lead_time'])\n",
        "df['lead_time']=np.where(df['lead_time']> high,high,df['lead_time'])\n",
        "df['lead_time']=np.where(df['lead_time']< low,low,df['lead_time'])\n",
        "#removing outlier from adr column\n",
        "low,high=removing_outlier(df['adr'])\n",
        "df['adr']=np.where(df['adr']> high,high,df['adr'])\n",
        "df['adr']=np.where(df['adr']< low,low,df['adr'])\n",
        "#removing outlier from days_in_waiting list\n",
        "low,high=removing_outlier(df['days_in_waiting_list'])\n",
        "df['days_in_waiting_list']=np.where(df['days_in_waiting_list']> high,high,df['days_in_waiting_list'])\n",
        "df['days_in_waiting_list']=np.where(df['days_in_waiting_list']< low,low,df['days_in_waiting_list'])"
      ],
      "metadata": {
        "id": "NNhcdRMQGCAI"
      },
      "execution_count": null,
      "outputs": []
    },
    {
      "cell_type": "code",
      "source": [
        "\n",
        "#after removing outlier\n",
        "sns.set_style('whitegrid')\n",
        "plt.rc('font',size=20)\n",
        "plt.figure(figsize=(10,5))\n",
        "sns.boxplot(data=df[['lead_time','adr','days_in_waiting_list']])\n",
        "plt.show()"
      ],
      "metadata": {
        "id": "o1-rQNI0GjcT"
      },
      "execution_count": null,
      "outputs": []
    },
    {
      "cell_type": "markdown",
      "source": [
        "### **How many people have stayed in hotels?**"
      ],
      "metadata": {
        "id": "gSBht9BHHQdZ"
      }
    },
    {
      "cell_type": "code",
      "source": [
        "# Adding 'total_stay' column using 'stays_in_weekend_nights' & 'stays_in_week_nights' columns\n",
        "df['total_stay'] = df['stays_in_weekend_nights'] + df['stays_in_week_nights']\n",
        "df['total_stay']"
      ],
      "metadata": {
        "id": "EKFesUkiyzZF"
      },
      "execution_count": null,
      "outputs": []
    },
    {
      "cell_type": "markdown",
      "source": [
        "### **Which countries do most travelers come from?**\n",
        "\n"
      ],
      "metadata": {
        "id": "OkiOEv1Qr5IH"
      }
    },
    {
      "cell_type": "code",
      "source": [
        "df.groupby('country').size().sort_values(ascending=False).head(5)"
      ],
      "metadata": {
        "id": "OZNsx2kxsIkI"
      },
      "execution_count": null,
      "outputs": []
    },
    {
      "cell_type": "markdown",
      "source": [
        "## **Calculate the average number of overnight stays , Count to two decimal places?**"
      ],
      "metadata": {
        "id": "4iX_KQalyUdP"
      }
    },
    {
      "cell_type": "code",
      "source": [
        "np.round((df['stays_in_weekend_nights'] + df['stays_in_week_nights']).mean(),2)"
      ],
      "metadata": {
        "id": "Onb_PDYtyqGF"
      },
      "execution_count": null,
      "outputs": []
    },
    {
      "cell_type": "markdown",
      "source": [
        "## **How much does the price in hotels every over the year?**"
      ],
      "metadata": {
        "id": "gwWAfzqMJki_"
      }
    },
    {
      "cell_type": "code",
      "source": [
        "# Calculate the average daily rate per person\n",
        "df['adr_pp'] = df['adr'] / df['total_stay']\n",
        "\n",
        "# Group the data by 'hotel' and 'arrival_date_year' and calculate the mean of 'adr_pp'\n",
        "yearlyadr_df = df.groupby(['hotel', 'arrival_date_year'])['adr_pp'].mean().reset_index()\n",
        "\n",
        "# Rename the columns for clarity\n",
        "yearlyadr_df.columns = ['Hotel', 'year', 'Mean_adr_pp']\n",
        "\n",
        "# Display the resulting DataFrame\n",
        "print(yearlyadr_df)"
      ],
      "metadata": {
        "id": "Xhk5xJYPHO8E"
      },
      "execution_count": null,
      "outputs": []
    },
    {
      "cell_type": "markdown",
      "source": [
        "## **How much does the price in hotels every over the Month?**"
      ],
      "metadata": {
        "id": "4V9eH2Etb1eP"
      }
    },
    {
      "cell_type": "code",
      "source": [
        "# Calculate the average daily rate per person\n",
        "df['adr_pp'] = df['adr'] / df['total_stay']\n",
        "\n",
        "# Group the data by 'hotel' and 'arrival_date_month' and calculate the mean of 'adr_pp'\n",
        "monthlyadr_df = df.groupby(['hotel', 'arrival_date_month'])['adr_pp'].mean().reset_index()\n",
        "\n",
        "# Rename the columns for clarity\n",
        "monthlyadr_df.columns = ['Hotel', 'Month', 'Mean_adr_pp']\n",
        "\n",
        "# Display the resulting DataFrame\n",
        "print(monthlyadr_df)"
      ],
      "metadata": {
        "id": "2NxE44ltb0hO"
      },
      "execution_count": null,
      "outputs": []
    },
    {
      "cell_type": "markdown",
      "source": [
        "### What all manipulations have you done and insights you found?"
      ],
      "metadata": {
        "id": "MSa1f5Uengrz"
      }
    },
    {
      "cell_type": "markdown",
      "source": [
        "Answer Here."
      ],
      "metadata": {
        "id": "LbyXE7I1olp8"
      }
    },
    {
      "cell_type": "markdown",
      "source": [
        "## ***4. Data Vizualization, Storytelling & Experimenting with charts : Understand the relationships between variables***"
      ],
      "metadata": {
        "id": "GF8Ens_Soomf"
      }
    },
    {
      "cell_type": "markdown",
      "source": [
        "### **The dataset have 32 variables (Continuous and Categorical) with one identified dependent variable (categorical), which is 'is_cancelled.**"
      ],
      "metadata": {
        "id": "W-lCY_vQzSXm"
      }
    },
    {
      "cell_type": "code",
      "source": [
        "# Chart - 1 visualization code\n",
        "\n",
        "# Enlarging the pie chart\n",
        "plt.rcParams['figure.figsize'] = 10,5\n",
        "\n",
        "# Indexing labels. tolist() will convert the index to list for easy manipulation\n",
        "labels = Hotel_df['hotel'].value_counts().index.tolist()\n",
        "\n",
        "# Convert value counts to list\n",
        "sizes = Hotel_df['hotel'].value_counts().tolist()\n",
        "\n",
        "# As the name suggest, explode will determine how much each section is separated from each other\n",
        "explode = (0, 0.1)\n",
        "\n",
        "# Determine colour of pie chart\n",
        "colors = ['yellowgreen','lightpink']\n",
        "\n",
        "plt.pie(sizes, explode= explode, labels=labels, colors=colors, autopct='%1.1f%%',startangle=90, textprops={'fontsize': 14})\n",
        "plt.show()\n",
        "\n",
        "### We can see that the percent of City hotel is more compared to Resort hotel.\n",
        "### Resort Hotel tend to be on the expensive side and most people will just stick with city hotel."
      ],
      "metadata": {
        "id": "7v_ESjsspbW7"
      },
      "execution_count": null,
      "outputs": []
    },
    {
      "cell_type": "markdown",
      "source": [
        "# **What do we see here?**"
      ],
      "metadata": {
        "id": "K5QZ13OEpz2H"
      }
    },
    {
      "cell_type": "markdown",
      "source": [
        "\n",
        "\n",
        "\n",
        "\n",
        "*   It seems that a huge proportion of hotels was city hotel. Resort hotel tend to be on the expensive side and most people will just stick with city hotel.\n",
        "*   Also, resort hotels tend to be appropriate for larger group of people.\n",
        "\n",
        "\n"
      ],
      "metadata": {
        "id": "XESiWehPqBRc"
      }
    },
    {
      "cell_type": "markdown",
      "source": [
        "#### Chart - 2"
      ],
      "metadata": {
        "id": "KSlN3yHqYklG"
      }
    },
    {
      "cell_type": "code",
      "source": [
        "# Chart - 2 visualization code\n",
        "\n"
      ],
      "metadata": {
        "id": "R4YgtaqtYklH"
      },
      "execution_count": null,
      "outputs": []
    },
    {
      "cell_type": "code",
      "source": [
        "# Write your code to make your dataset analysis ready.\n",
        "#finding out outlier in each column\n",
        "plt.rc('font', size=10)\n",
        "plt.figure(figsize=(20,5))\n",
        "sns.boxplot(data=df[['is_canceled','lead_time','arrival_date_week_number','adults','babies','previous_cancellations','booking_changes','days_in_waiting_list','adr','total_of_special_requests']])\n",
        "plt.show()"
      ],
      "metadata": {
        "id": "NwqfwlbOyza_"
      },
      "execution_count": null,
      "outputs": []
    },
    {
      "cell_type": "markdown",
      "source": [
        "##### 1. Why did you pick the specific chart?"
      ],
      "metadata": {
        "id": "t6dVpIINYklI"
      }
    },
    {
      "cell_type": "markdown",
      "source": [
        "Answer Here."
      ],
      "metadata": {
        "id": "5aaW0BYyYklI"
      }
    },
    {
      "cell_type": "markdown",
      "source": [
        "##### 2. What is/are the insight(s) found from the chart?"
      ],
      "metadata": {
        "id": "ijmpgYnKYklI"
      }
    },
    {
      "cell_type": "markdown",
      "source": [
        "Answer Here"
      ],
      "metadata": {
        "id": "PSx9atu2YklI"
      }
    },
    {
      "cell_type": "markdown",
      "source": [
        "##### 3. Will the gained insights help creating a positive business impact?\n",
        "Are there any insights that lead to negative growth? Justify with specific reason."
      ],
      "metadata": {
        "id": "-JiQyfWJYklI"
      }
    },
    {
      "cell_type": "markdown",
      "source": [
        "Answer Here"
      ],
      "metadata": {
        "id": "BcBbebzrYklV"
      }
    },
    {
      "cell_type": "markdown",
      "source": [
        "#### Chart - 3"
      ],
      "metadata": {
        "id": "EM7whBJCYoAo"
      }
    },
    {
      "cell_type": "code",
      "source": [
        "# Chart - 3 visualization code"
      ],
      "metadata": {
        "id": "t6GMdE67YoAp"
      },
      "execution_count": null,
      "outputs": []
    },
    {
      "cell_type": "markdown",
      "source": [
        "##### 1. Why did you pick the specific chart?"
      ],
      "metadata": {
        "id": "fge-S5ZAYoAp"
      }
    },
    {
      "cell_type": "markdown",
      "source": [
        "Answer Here."
      ],
      "metadata": {
        "id": "5dBItgRVYoAp"
      }
    },
    {
      "cell_type": "markdown",
      "source": [
        "##### 2. What is/are the insight(s) found from the chart?"
      ],
      "metadata": {
        "id": "85gYPyotYoAp"
      }
    },
    {
      "cell_type": "markdown",
      "source": [
        "Answer Here"
      ],
      "metadata": {
        "id": "4jstXR6OYoAp"
      }
    },
    {
      "cell_type": "markdown",
      "source": [
        "##### 3. Will the gained insights help creating a positive business impact?\n",
        "Are there any insights that lead to negative growth? Justify with specific reason."
      ],
      "metadata": {
        "id": "RoGjAbkUYoAp"
      }
    },
    {
      "cell_type": "markdown",
      "source": [
        "Answer Here"
      ],
      "metadata": {
        "id": "zfJ8IqMcYoAp"
      }
    },
    {
      "cell_type": "markdown",
      "source": [
        "#### Chart - 4"
      ],
      "metadata": {
        "id": "4Of9eVA-YrdM"
      }
    },
    {
      "cell_type": "code",
      "source": [
        "# Chart - 4 visualization code"
      ],
      "metadata": {
        "id": "irlUoxc8YrdO"
      },
      "execution_count": null,
      "outputs": []
    },
    {
      "cell_type": "markdown",
      "source": [
        "##### 1. Why did you pick the specific chart?"
      ],
      "metadata": {
        "id": "iky9q4vBYrdO"
      }
    },
    {
      "cell_type": "markdown",
      "source": [
        "Answer Here."
      ],
      "metadata": {
        "id": "aJRCwT6DYrdO"
      }
    },
    {
      "cell_type": "markdown",
      "source": [
        "##### 2. What is/are the insight(s) found from the chart?"
      ],
      "metadata": {
        "id": "F6T5p64dYrdO"
      }
    },
    {
      "cell_type": "markdown",
      "source": [
        "Answer Here"
      ],
      "metadata": {
        "id": "Xx8WAJvtYrdO"
      }
    },
    {
      "cell_type": "markdown",
      "source": [
        "##### 3. Will the gained insights help creating a positive business impact?\n",
        "Are there any insights that lead to negative growth? Justify with specific reason."
      ],
      "metadata": {
        "id": "y-Ehk30pYrdP"
      }
    },
    {
      "cell_type": "markdown",
      "source": [
        "Answer Here"
      ],
      "metadata": {
        "id": "jLNxxz7MYrdP"
      }
    },
    {
      "cell_type": "markdown",
      "source": [
        "#### Chart - 5"
      ],
      "metadata": {
        "id": "bamQiAODYuh1"
      }
    },
    {
      "cell_type": "code",
      "source": [
        "# Chart - 5 visualization code"
      ],
      "metadata": {
        "id": "TIJwrbroYuh3"
      },
      "execution_count": null,
      "outputs": []
    },
    {
      "cell_type": "markdown",
      "source": [
        "##### 1. Why did you pick the specific chart?"
      ],
      "metadata": {
        "id": "QHF8YVU7Yuh3"
      }
    },
    {
      "cell_type": "markdown",
      "source": [
        "Answer Here."
      ],
      "metadata": {
        "id": "dcxuIMRPYuh3"
      }
    },
    {
      "cell_type": "markdown",
      "source": [
        "##### 2. What is/are the insight(s) found from the chart?"
      ],
      "metadata": {
        "id": "GwzvFGzlYuh3"
      }
    },
    {
      "cell_type": "markdown",
      "source": [
        "Answer Here"
      ],
      "metadata": {
        "id": "uyqkiB8YYuh3"
      }
    },
    {
      "cell_type": "markdown",
      "source": [
        "##### 3. Will the gained insights help creating a positive business impact?\n",
        "Are there any insights that lead to negative growth? Justify with specific reason."
      ],
      "metadata": {
        "id": "qYpmQ266Yuh3"
      }
    },
    {
      "cell_type": "markdown",
      "source": [
        "Answer Here"
      ],
      "metadata": {
        "id": "_WtzZ_hCYuh4"
      }
    },
    {
      "cell_type": "markdown",
      "source": [
        "#### Chart - 6"
      ],
      "metadata": {
        "id": "OH-pJp9IphqM"
      }
    },
    {
      "cell_type": "code",
      "source": [
        "# Chart - 6 visualization code"
      ],
      "metadata": {
        "id": "kuRf4wtuphqN"
      },
      "execution_count": null,
      "outputs": []
    },
    {
      "cell_type": "markdown",
      "source": [
        "##### 1. Why did you pick the specific chart?"
      ],
      "metadata": {
        "id": "bbFf2-_FphqN"
      }
    },
    {
      "cell_type": "markdown",
      "source": [
        "Answer Here."
      ],
      "metadata": {
        "id": "loh7H2nzphqN"
      }
    },
    {
      "cell_type": "markdown",
      "source": [
        "##### 2. What is/are the insight(s) found from the chart?"
      ],
      "metadata": {
        "id": "_ouA3fa0phqN"
      }
    },
    {
      "cell_type": "markdown",
      "source": [
        "Answer Here"
      ],
      "metadata": {
        "id": "VECbqPI7phqN"
      }
    },
    {
      "cell_type": "markdown",
      "source": [
        "##### 3. Will the gained insights help creating a positive business impact?\n",
        "Are there any insights that lead to negative growth? Justify with specific reason."
      ],
      "metadata": {
        "id": "Seke61FWphqN"
      }
    },
    {
      "cell_type": "markdown",
      "source": [
        "Answer Here"
      ],
      "metadata": {
        "id": "DW4_bGpfphqN"
      }
    },
    {
      "cell_type": "markdown",
      "source": [
        "#### Chart - 7"
      ],
      "metadata": {
        "id": "PIIx-8_IphqN"
      }
    },
    {
      "cell_type": "code",
      "source": [
        "# Chart - 7 visualization code"
      ],
      "metadata": {
        "id": "lqAIGUfyphqO"
      },
      "execution_count": null,
      "outputs": []
    },
    {
      "cell_type": "markdown",
      "source": [
        "##### 1. Why did you pick the specific chart?"
      ],
      "metadata": {
        "id": "t27r6nlMphqO"
      }
    },
    {
      "cell_type": "markdown",
      "source": [
        "Answer Here."
      ],
      "metadata": {
        "id": "iv6ro40sphqO"
      }
    },
    {
      "cell_type": "markdown",
      "source": [
        "##### 2. What is/are the insight(s) found from the chart?"
      ],
      "metadata": {
        "id": "r2jJGEOYphqO"
      }
    },
    {
      "cell_type": "markdown",
      "source": [
        "Answer Here"
      ],
      "metadata": {
        "id": "Po6ZPi4hphqO"
      }
    },
    {
      "cell_type": "markdown",
      "source": [
        "##### 3. Will the gained insights help creating a positive business impact?\n",
        "Are there any insights that lead to negative growth? Justify with specific reason."
      ],
      "metadata": {
        "id": "b0JNsNcRphqO"
      }
    },
    {
      "cell_type": "markdown",
      "source": [
        "Answer Here"
      ],
      "metadata": {
        "id": "xvSq8iUTphqO"
      }
    },
    {
      "cell_type": "markdown",
      "source": [
        "#### Chart - 8"
      ],
      "metadata": {
        "id": "BZR9WyysphqO"
      }
    },
    {
      "cell_type": "code",
      "source": [
        "# Chart - 8 visualization code"
      ],
      "metadata": {
        "id": "TdPTWpAVphqO"
      },
      "execution_count": null,
      "outputs": []
    },
    {
      "cell_type": "markdown",
      "source": [
        "##### 1. Why did you pick the specific chart?"
      ],
      "metadata": {
        "id": "jj7wYXLtphqO"
      }
    },
    {
      "cell_type": "markdown",
      "source": [
        "Answer Here."
      ],
      "metadata": {
        "id": "Ob8u6rCTphqO"
      }
    },
    {
      "cell_type": "markdown",
      "source": [
        "##### 2. What is/are the insight(s) found from the chart?"
      ],
      "metadata": {
        "id": "eZrbJ2SmphqO"
      }
    },
    {
      "cell_type": "markdown",
      "source": [
        "Answer Here"
      ],
      "metadata": {
        "id": "mZtgC_hjphqO"
      }
    },
    {
      "cell_type": "markdown",
      "source": [
        "##### 3. Will the gained insights help creating a positive business impact?\n",
        "Are there any insights that lead to negative growth? Justify with specific reason."
      ],
      "metadata": {
        "id": "rFu4xreNphqO"
      }
    },
    {
      "cell_type": "markdown",
      "source": [
        "Answer Here"
      ],
      "metadata": {
        "id": "ey_0qi68phqO"
      }
    },
    {
      "cell_type": "markdown",
      "source": [
        "#### Chart - 9"
      ],
      "metadata": {
        "id": "YJ55k-q6phqO"
      }
    },
    {
      "cell_type": "code",
      "source": [
        "# Chart - 9 visualization code"
      ],
      "metadata": {
        "id": "B2aS4O1ophqO"
      },
      "execution_count": null,
      "outputs": []
    },
    {
      "cell_type": "markdown",
      "source": [
        "##### 1. Why did you pick the specific chart?"
      ],
      "metadata": {
        "id": "gCFgpxoyphqP"
      }
    },
    {
      "cell_type": "markdown",
      "source": [
        "Answer Here."
      ],
      "metadata": {
        "id": "TVxDimi2phqP"
      }
    },
    {
      "cell_type": "markdown",
      "source": [
        "##### 2. What is/are the insight(s) found from the chart?"
      ],
      "metadata": {
        "id": "OVtJsKN_phqQ"
      }
    },
    {
      "cell_type": "markdown",
      "source": [
        "Answer Here"
      ],
      "metadata": {
        "id": "ngGi97qjphqQ"
      }
    },
    {
      "cell_type": "markdown",
      "source": [
        "##### 3. Will the gained insights help creating a positive business impact?\n",
        "Are there any insights that lead to negative growth? Justify with specific reason."
      ],
      "metadata": {
        "id": "lssrdh5qphqQ"
      }
    },
    {
      "cell_type": "markdown",
      "source": [
        "Answer Here"
      ],
      "metadata": {
        "id": "tBpY5ekJphqQ"
      }
    },
    {
      "cell_type": "markdown",
      "source": [
        "#### Chart - 10"
      ],
      "metadata": {
        "id": "U2RJ9gkRphqQ"
      }
    },
    {
      "cell_type": "code",
      "source": [
        "# Chart - 10 visualization code"
      ],
      "metadata": {
        "id": "GM7a4YP4phqQ"
      },
      "execution_count": null,
      "outputs": []
    },
    {
      "cell_type": "markdown",
      "source": [
        "##### 1. Why did you pick the specific chart?"
      ],
      "metadata": {
        "id": "1M8mcRywphqQ"
      }
    },
    {
      "cell_type": "markdown",
      "source": [
        "Answer Here."
      ],
      "metadata": {
        "id": "8agQvks0phqQ"
      }
    },
    {
      "cell_type": "markdown",
      "source": [
        "##### 2. What is/are the insight(s) found from the chart?"
      ],
      "metadata": {
        "id": "tgIPom80phqQ"
      }
    },
    {
      "cell_type": "markdown",
      "source": [
        "Answer Here"
      ],
      "metadata": {
        "id": "Qp13pnNzphqQ"
      }
    },
    {
      "cell_type": "markdown",
      "source": [
        "##### 3. Will the gained insights help creating a positive business impact?\n",
        "Are there any insights that lead to negative growth? Justify with specific reason."
      ],
      "metadata": {
        "id": "JMzcOPDDphqR"
      }
    },
    {
      "cell_type": "markdown",
      "source": [
        "Answer Here"
      ],
      "metadata": {
        "id": "R4Ka1PC2phqR"
      }
    },
    {
      "cell_type": "markdown",
      "source": [
        "#### Chart - 11"
      ],
      "metadata": {
        "id": "x-EpHcCOp1ci"
      }
    },
    {
      "cell_type": "code",
      "source": [
        "# Chart - 11 visualization code"
      ],
      "metadata": {
        "id": "mAQTIvtqp1cj"
      },
      "execution_count": null,
      "outputs": []
    },
    {
      "cell_type": "markdown",
      "source": [
        "##### 1. Why did you pick the specific chart?"
      ],
      "metadata": {
        "id": "X_VqEhTip1ck"
      }
    },
    {
      "cell_type": "markdown",
      "source": [
        "Answer Here."
      ],
      "metadata": {
        "id": "-vsMzt_np1ck"
      }
    },
    {
      "cell_type": "markdown",
      "source": [
        "##### 2. What is/are the insight(s) found from the chart?"
      ],
      "metadata": {
        "id": "8zGJKyg5p1ck"
      }
    },
    {
      "cell_type": "markdown",
      "source": [
        "Answer Here"
      ],
      "metadata": {
        "id": "ZYdMsrqVp1ck"
      }
    },
    {
      "cell_type": "markdown",
      "source": [
        "##### 3. Will the gained insights help creating a positive business impact?\n",
        "Are there any insights that lead to negative growth? Justify with specific reason."
      ],
      "metadata": {
        "id": "PVzmfK_Ep1ck"
      }
    },
    {
      "cell_type": "markdown",
      "source": [
        "Answer Here"
      ],
      "metadata": {
        "id": "druuKYZpp1ck"
      }
    },
    {
      "cell_type": "markdown",
      "source": [
        "#### Chart - 12"
      ],
      "metadata": {
        "id": "n3dbpmDWp1ck"
      }
    },
    {
      "cell_type": "code",
      "source": [
        "# Chart - 12 visualization code"
      ],
      "metadata": {
        "id": "bwevp1tKp1ck"
      },
      "execution_count": null,
      "outputs": []
    },
    {
      "cell_type": "markdown",
      "source": [
        "##### 1. Why did you pick the specific chart?"
      ],
      "metadata": {
        "id": "ylSl6qgtp1ck"
      }
    },
    {
      "cell_type": "markdown",
      "source": [
        "Answer Here."
      ],
      "metadata": {
        "id": "m2xqNkiQp1ck"
      }
    },
    {
      "cell_type": "markdown",
      "source": [
        "##### 2. What is/are the insight(s) found from the chart?"
      ],
      "metadata": {
        "id": "ZWILFDl5p1ck"
      }
    },
    {
      "cell_type": "markdown",
      "source": [
        "Answer Here"
      ],
      "metadata": {
        "id": "x-lUsV2mp1ck"
      }
    },
    {
      "cell_type": "markdown",
      "source": [
        "##### 3. Will the gained insights help creating a positive business impact?\n",
        "Are there any insights that lead to negative growth? Justify with specific reason."
      ],
      "metadata": {
        "id": "M7G43BXep1ck"
      }
    },
    {
      "cell_type": "markdown",
      "source": [
        "Answer Here"
      ],
      "metadata": {
        "id": "5wwDJXsLp1cl"
      }
    },
    {
      "cell_type": "markdown",
      "source": [
        "#### Chart - 13"
      ],
      "metadata": {
        "id": "Ag9LCva-p1cl"
      }
    },
    {
      "cell_type": "code",
      "source": [
        "# Chart - 13 visualization code"
      ],
      "metadata": {
        "id": "EUfxeq9-p1cl"
      },
      "execution_count": null,
      "outputs": []
    },
    {
      "cell_type": "markdown",
      "source": [
        "##### 1. Why did you pick the specific chart?"
      ],
      "metadata": {
        "id": "E6MkPsBcp1cl"
      }
    },
    {
      "cell_type": "markdown",
      "source": [
        "Answer Here."
      ],
      "metadata": {
        "id": "V22bRsFWp1cl"
      }
    },
    {
      "cell_type": "markdown",
      "source": [
        "##### 2. What is/are the insight(s) found from the chart?"
      ],
      "metadata": {
        "id": "2cELzS2fp1cl"
      }
    },
    {
      "cell_type": "markdown",
      "source": [
        "Answer Here"
      ],
      "metadata": {
        "id": "ozQPc2_Ip1cl"
      }
    },
    {
      "cell_type": "markdown",
      "source": [
        "##### 3. Will the gained insights help creating a positive business impact?\n",
        "Are there any insights that lead to negative growth? Justify with specific reason."
      ],
      "metadata": {
        "id": "3MPXvC8up1cl"
      }
    },
    {
      "cell_type": "markdown",
      "source": [
        "Answer Here"
      ],
      "metadata": {
        "id": "GL8l1tdLp1cl"
      }
    },
    {
      "cell_type": "markdown",
      "source": [
        "#### Chart - 14 - Correlation Heatmap"
      ],
      "metadata": {
        "id": "NC_X3p0fY2L0"
      }
    },
    {
      "cell_type": "code",
      "source": [
        "# Correlation Heatmap visualization code"
      ],
      "metadata": {
        "id": "xyC9zolEZNRQ"
      },
      "execution_count": null,
      "outputs": []
    },
    {
      "cell_type": "markdown",
      "source": [
        "##### 1. Why did you pick the specific chart?"
      ],
      "metadata": {
        "id": "UV0SzAkaZNRQ"
      }
    },
    {
      "cell_type": "markdown",
      "source": [
        "Answer Here."
      ],
      "metadata": {
        "id": "DVPuT8LYZNRQ"
      }
    },
    {
      "cell_type": "markdown",
      "source": [
        "##### 2. What is/are the insight(s) found from the chart?"
      ],
      "metadata": {
        "id": "YPEH6qLeZNRQ"
      }
    },
    {
      "cell_type": "markdown",
      "source": [
        "Answer Here"
      ],
      "metadata": {
        "id": "bfSqtnDqZNRR"
      }
    },
    {
      "cell_type": "markdown",
      "source": [
        "#### Chart - 15 - Pair Plot"
      ],
      "metadata": {
        "id": "q29F0dvdveiT"
      }
    },
    {
      "cell_type": "code",
      "source": [
        "# Pair Plot visualization code"
      ],
      "metadata": {
        "id": "o58-TEIhveiU"
      },
      "execution_count": null,
      "outputs": []
    },
    {
      "cell_type": "markdown",
      "source": [
        "##### 1. Why did you pick the specific chart?"
      ],
      "metadata": {
        "id": "EXh0U9oCveiU"
      }
    },
    {
      "cell_type": "markdown",
      "source": [
        "Answer Here."
      ],
      "metadata": {
        "id": "eMmPjTByveiU"
      }
    },
    {
      "cell_type": "markdown",
      "source": [
        "##### 2. What is/are the insight(s) found from the chart?"
      ],
      "metadata": {
        "id": "22aHeOlLveiV"
      }
    },
    {
      "cell_type": "markdown",
      "source": [
        "Answer Here"
      ],
      "metadata": {
        "id": "uPQ8RGwHveiV"
      }
    },
    {
      "cell_type": "markdown",
      "source": [
        "## **5. Solution to Business Objective**"
      ],
      "metadata": {
        "id": "JcMwzZxoAimU"
      }
    },
    {
      "cell_type": "markdown",
      "source": [
        "#### What do you suggest the client to achieve Business Objective ?\n",
        "Explain Briefly."
      ],
      "metadata": {
        "id": "8G2x9gOozGDZ"
      }
    },
    {
      "cell_type": "markdown",
      "source": [
        "Answer Here."
      ],
      "metadata": {
        "id": "pASKb0qOza21"
      }
    },
    {
      "cell_type": "markdown",
      "source": [
        "# **Conclusion**"
      ],
      "metadata": {
        "id": "gCX9965dhzqZ"
      }
    },
    {
      "cell_type": "markdown",
      "source": [
        "Write the conclusion here."
      ],
      "metadata": {
        "id": "Fjb1IsQkh3yE"
      }
    },
    {
      "cell_type": "markdown",
      "source": [
        "### ***Hurrah! You have successfully completed your EDA Capstone Project !!!***"
      ],
      "metadata": {
        "id": "gIfDvo9L0UH2"
      }
    }
  ]
}